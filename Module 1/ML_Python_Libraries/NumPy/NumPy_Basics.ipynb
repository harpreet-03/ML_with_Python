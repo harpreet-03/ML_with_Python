{
  "cells": [
    {
      "cell_type": "markdown",
      "metadata": {
        "id": "gqHgdTXrAxDQ"
      },
      "source": [
        "\n",
        "## Numpy - Numerical Python\n",
        "1. Numpy Arrays"
      ]
    },
    {
      "cell_type": "code",
      "execution_count": 1,
      "metadata": {
        "colab": {
          "base_uri": "https://localhost:8080/"
        },
        "id": "1JmklcBJAk4d",
        "outputId": "f546d0fc-48fc-453d-a0ad-2638b317c041"
      },
      "outputs": [
        {
          "name": "stdout",
          "output_type": "stream",
          "text": [
            "[1 2 3 4 5]\n"
          ]
        },
        {
          "data": {
            "text/plain": [
              "numpy.ndarray"
            ]
          },
          "execution_count": 1,
          "metadata": {},
          "output_type": "execute_result"
        }
      ],
      "source": [
        "#creating 1-D Arrays\n",
        "import numpy as np\n",
        "\n",
        "arr1 = np.array([1,2,3,4,5])\n",
        "print(arr1)\n",
        "type(arr1)"
      ]
    },
    {
      "cell_type": "code",
      "execution_count": 2,
      "metadata": {
        "colab": {
          "base_uri": "https://localhost:8080/"
        },
        "id": "dzQT4tDBBgAE",
        "outputId": "d3dc4792-988a-4626-9961-78e9568a31c2"
      },
      "outputs": [
        {
          "data": {
            "text/plain": [
              "(5,)"
            ]
          },
          "execution_count": 2,
          "metadata": {},
          "output_type": "execute_result"
        }
      ],
      "source": [
        "arr1.shape"
      ]
    },
    {
      "cell_type": "code",
      "execution_count": 3,
      "metadata": {
        "colab": {
          "base_uri": "https://localhost:8080/"
        },
        "id": "p7SWT9niBxq0",
        "outputId": "6b217ceb-defd-42a5-b9b3-504a54064b23"
      },
      "outputs": [
        {
          "name": "stdout",
          "output_type": "stream",
          "text": [
            "[[1 0]\n",
            " [2 4]]\n",
            "shape of array : \n"
          ]
        },
        {
          "data": {
            "text/plain": [
              "(2, 2)"
            ]
          },
          "execution_count": 3,
          "metadata": {},
          "output_type": "execute_result"
        }
      ],
      "source": [
        "# creating 2x2 matrix\n",
        "a = np.array([[1,0],[2,4]])\n",
        "print(a)\n",
        "print(\"shape of array : \")\n",
        "a.shape"
      ]
    },
    {
      "cell_type": "code",
      "execution_count": null,
      "metadata": {
        "id": "NmbzcR1vDROU"
      },
      "outputs": [],
      "source": []
    },
    {
      "cell_type": "code",
      "execution_count": 4,
      "metadata": {
        "colab": {
          "base_uri": "https://localhost:8080/"
        },
        "id": "0KnPNoINCpD8",
        "outputId": "2f61ac12-4f12-4ebd-9444-1c9855832e59"
      },
      "outputs": [
        {
          "name": "stdout",
          "output_type": "stream",
          "text": [
            "[[1. 2. 3.]\n",
            " [4. 5. 6.]\n",
            " [7. 8. 9.]]\n"
          ]
        }
      ],
      "source": [
        "#Mentioning Datatype\n",
        "c = np.array([[1,2,3],[4,5,6],[7,8,9]], dtype = float)\n",
        "print(c)"
      ]
    },
    {
      "cell_type": "markdown",
      "metadata": {
        "id": "O8xMyixFDVn-"
      },
      "source": [
        "# Initial Placeholders in NumPy Arrays\n"
      ]
    },
    {
      "cell_type": "code",
      "execution_count": 5,
      "metadata": {
        "colab": {
          "base_uri": "https://localhost:8080/"
        },
        "id": "I8kmMEPlDa0u",
        "outputId": "dfc9d728-4a24-4101-a170-e7398853542c"
      },
      "outputs": [
        {
          "name": "stdout",
          "output_type": "stream",
          "text": [
            "[[0. 0. 0. 0. 0.]\n",
            " [0. 0. 0. 0. 0.]\n",
            " [0. 0. 0. 0. 0.]\n",
            " [0. 0. 0. 0. 0.]]\n"
          ]
        }
      ],
      "source": [
        "#create a numpy array of Zeros\n",
        "\n",
        "x = np.zeros((4,5))\n",
        "print(x)"
      ]
    },
    {
      "cell_type": "code",
      "execution_count": 6,
      "metadata": {
        "colab": {
          "base_uri": "https://localhost:8080/"
        },
        "id": "fUc70Dv_DwTS",
        "outputId": "3ef2ef41-06fe-4744-940a-478a6adb636e"
      },
      "outputs": [
        {
          "name": "stdout",
          "output_type": "stream",
          "text": [
            "[[1. 1. 1.]\n",
            " [1. 1. 1.]\n",
            " [1. 1. 1.]]\n"
          ]
        }
      ],
      "source": [
        "# create a numpy arrays of ones\n",
        "\n",
        "y = np.ones((3,3))\n",
        "print(y)"
      ]
    },
    {
      "cell_type": "code",
      "execution_count": 7,
      "metadata": {
        "colab": {
          "base_uri": "https://localhost:8080/"
        },
        "id": "RzQLxO-REKYs",
        "outputId": "ce32c9e6-db04-4ed2-c6fa-2c33fa728efb"
      },
      "outputs": [
        {
          "name": "stdout",
          "output_type": "stream",
          "text": [
            "[[5 5 5 5]\n",
            " [5 5 5 5]\n",
            " [5 5 5 5]\n",
            " [5 5 5 5]\n",
            " [5 5 5 5]]\n"
          ]
        }
      ],
      "source": [
        "# create an array of a particular value\n",
        "z = np.full((5,4),5)  #((row,col), placeholder value)\n",
        "print(z)"
      ]
    },
    {
      "cell_type": "code",
      "execution_count": null,
      "metadata": {
        "id": "nsj66HOFEacW"
      },
      "outputs": [],
      "source": []
    },
    {
      "cell_type": "markdown",
      "metadata": {
        "id": "Zg0C0roVEd-O"
      },
      "source": [
        "# Identity Matrix"
      ]
    },
    {
      "cell_type": "code",
      "execution_count": 8,
      "metadata": {
        "colab": {
          "base_uri": "https://localhost:8080/"
        },
        "id": "vxpVYCi3EgQp",
        "outputId": "2612de68-a7b0-4a4c-c5d5-1915c8cbd198"
      },
      "outputs": [
        {
          "name": "stdout",
          "output_type": "stream",
          "text": [
            "[[1. 0. 0.]\n",
            " [0. 1. 0.]\n",
            " [0. 0. 1.]]\n"
          ]
        }
      ],
      "source": [
        "#create an identity matrix\n",
        "id = np.eye(3)  #(shape of array :Int)\n",
        "print(id)"
      ]
    },
    {
      "cell_type": "code",
      "execution_count": 9,
      "metadata": {
        "colab": {
          "base_uri": "https://localhost:8080/"
        },
        "id": "zJppLlLhE7Xj",
        "outputId": "9880b184-361d-4e22-b98b-a4fb7c69f316"
      },
      "outputs": [
        {
          "name": "stdout",
          "output_type": "stream",
          "text": [
            "[[0.22469441 0.08738626 0.09006156 0.65160869]\n",
            " [0.48067781 0.98942507 0.95992725 0.11878911]\n",
            " [0.04512414 0.95336949 0.38574897 0.42319341]]\n"
          ]
        }
      ],
      "source": [
        "#create a numpy array with random values\n",
        "\n",
        "r = np.random.random((3,4))\n",
        "print(r)\n",
        "#Note: All the values will be btw 0 and 1"
      ]
    },
    {
      "cell_type": "code",
      "execution_count": 10,
      "metadata": {
        "colab": {
          "base_uri": "https://localhost:8080/"
        },
        "id": "5QP0l-nQFPU7",
        "outputId": "dc5a19f1-8dbb-46a4-e811-bbb11db54e98"
      },
      "outputs": [
        {
          "name": "stdout",
          "output_type": "stream",
          "text": [
            "[[4 5 2 3 5 3 8 6 5 2]\n",
            " [1 4 4 5 2 3 1 2 5 4]\n",
            " [3 3 8 5 4 3 6 1 7 5]\n",
            " [5 4 1 3 1 3 2 2 3 4]\n",
            " [6 2 4 4 6 7 1 6 8 3]]\n"
          ]
        }
      ],
      "source": [
        " # create Integer values array wihtin specific Range:\n",
        " c = np.random.randint(1,9,(5,10))\n",
        " print(c)"
      ]
    },
    {
      "cell_type": "code",
      "execution_count": 11,
      "metadata": {
        "colab": {
          "base_uri": "https://localhost:8080/"
        },
        "id": "fbH7Q2BlFppn",
        "outputId": "d7ff1f66-9868-4a78-9932-985bdf1a5e7e"
      },
      "outputs": [
        {
          "name": "stdout",
          "output_type": "stream",
          "text": [
            "[10. 14. 18. 22. 26. 30.]\n"
          ]
        }
      ],
      "source": [
        "#array of eveny spaced vlaue\n",
        "\n",
        "d = np.linspace(10,30,6)  #6 means --> specifying the number of values required\n",
        "print(d)"
      ]
    },
    {
      "cell_type": "code",
      "execution_count": 12,
      "metadata": {
        "colab": {
          "base_uri": "https://localhost:8080/"
        },
        "id": "bm1XAaHHHM10",
        "outputId": "68858698-06e6-4bef-d168-05daa627bcdb"
      },
      "outputs": [
        {
          "name": "stdout",
          "output_type": "stream",
          "text": [
            "[10 15 20 25]\n"
          ]
        }
      ],
      "source": [
        "#array of evenly spaced values - > specifying the step\n",
        "e = np.arange(10,30,5)\n",
        "print(e)"
      ]
    },
    {
      "cell_type": "markdown",
      "metadata": {
        "id": "cVmLnfmzICi5"
      },
      "source": [
        "Convert a List to NumPy Array\n"
      ]
    },
    {
      "cell_type": "code",
      "execution_count": 13,
      "metadata": {
        "colab": {
          "base_uri": "https://localhost:8080/"
        },
        "id": "VvoWaJYPIFU9",
        "outputId": "3ea858bb-193a-4838-dda7-243b2dbe893b"
      },
      "outputs": [
        {
          "name": "stdout",
          "output_type": "stream",
          "text": [
            "Datatype of List:  <class 'list'>\n",
            "[10 20 30 40 50]\n",
            "DataType of Array:  <class 'numpy.ndarray'>\n"
          ]
        }
      ],
      "source": [
        "list1 = [10,20,30,40,50]\n",
        "print(\"Datatype of List: \", type(list1))\n",
        "np_array = np.asarray(list1)\n",
        "print(np_array)\n",
        "print(\"DataType of Array: \", type(np_array))"
      ]
    },
    {
      "cell_type": "markdown",
      "metadata": {
        "id": "Q8jxJQGjIirm"
      },
      "source": [
        "# Analyzing a NumPy Array"
      ]
    },
    {
      "cell_type": "code",
      "execution_count": 14,
      "metadata": {
        "colab": {
          "base_uri": "https://localhost:8080/"
        },
        "id": "RkItW208IlhR",
        "outputId": "473756f5-fff2-40db-b2cb-19392d43b7ac"
      },
      "outputs": [
        {
          "name": "stdout",
          "output_type": "stream",
          "text": [
            "[[57 13 16 51 86]\n",
            " [54 76 14 60 61]\n",
            " [43 44 24 75 16]\n",
            " [59 77 72 14 21]\n",
            " [18 38 86 38 29]]\n"
          ]
        }
      ],
      "source": [
        "np_arr = np.random.randint(10,90,(5,5))\n",
        "print(np_arr)"
      ]
    },
    {
      "cell_type": "code",
      "execution_count": 15,
      "metadata": {
        "colab": {
          "base_uri": "https://localhost:8080/"
        },
        "id": "TcQCFZAEIsYR",
        "outputId": "0d3af659-91f3-4acc-c827-30d7d1ce9f81"
      },
      "outputs": [
        {
          "name": "stdout",
          "output_type": "stream",
          "text": [
            "(5, 5)\n"
          ]
        }
      ],
      "source": [
        "#Array Dimension\n",
        "print(np_arr.shape)"
      ]
    },
    {
      "cell_type": "code",
      "execution_count": 16,
      "metadata": {
        "colab": {
          "base_uri": "https://localhost:8080/"
        },
        "id": "cgL12kf5JAYt",
        "outputId": "fcf27d05-2509-4a83-954f-dfbc6a259531"
      },
      "outputs": [
        {
          "name": "stdout",
          "output_type": "stream",
          "text": [
            "2\n"
          ]
        }
      ],
      "source": [
        "#Number of dimensions\n",
        "print(np_arr.ndim)   #ndim -> N-Dimensional\n",
        "#output = 2, That means it is a  2-D array"
      ]
    },
    {
      "cell_type": "code",
      "execution_count": 17,
      "metadata": {
        "colab": {
          "base_uri": "https://localhost:8080/"
        },
        "id": "EaGP5NA_JVXb",
        "outputId": "a6beb8a9-805a-4505-b326-3a7e87cd81b4"
      },
      "outputs": [
        {
          "name": "stdout",
          "output_type": "stream",
          "text": [
            "25\n"
          ]
        }
      ],
      "source": [
        "#checking no. of ele in the array\n",
        "print(np_arr.size)"
      ]
    },
    {
      "cell_type": "code",
      "execution_count": 18,
      "metadata": {
        "colab": {
          "base_uri": "https://localhost:8080/"
        },
        "id": "lMVLKqcuJf0T",
        "outputId": "1b876397-9132-4fbe-f41c-40cb4fed2105"
      },
      "outputs": [
        {
          "name": "stdout",
          "output_type": "stream",
          "text": [
            "int32\n"
          ]
        }
      ],
      "source": [
        "#cheking datatype of values in the array\n",
        "print(np_arr.dtype)"
      ]
    },
    {
      "cell_type": "markdown",
      "metadata": {
        "id": "j1LnCEQmJn8T"
      },
      "source": [
        "## *Mathematical Operation on a Array*"
      ]
    },
    {
      "cell_type": "code",
      "execution_count": 19,
      "metadata": {
        "id": "B9gfthKeKK1O"
      },
      "outputs": [],
      "source": [
        "a = np.random.randint(0,10,(3,3))\n",
        "b = np.random.randint(10,20,(3,3))\n"
      ]
    },
    {
      "cell_type": "code",
      "execution_count": 20,
      "metadata": {
        "colab": {
          "base_uri": "https://localhost:8080/"
        },
        "id": "SCdfmSxaLpOh",
        "outputId": "446bf964-6f21-4025-c1a1-c6d5c98db219"
      },
      "outputs": [
        {
          "name": "stdout",
          "output_type": "stream",
          "text": [
            "[[17 28 17]\n",
            " [21 20 19]\n",
            " [16 20 27]]\n",
            "[[-13 -10  -7]\n",
            " [ -3  -6 -13]\n",
            " [-14  -4  -9]]\n",
            "[[ 30 171  60]\n",
            " [108  91  48]\n",
            " [ 15  96 162]]\n",
            "[[0.13333333 0.47368421 0.41666667]\n",
            " [0.75       0.53846154 0.1875    ]\n",
            " [0.06666667 0.66666667 0.5       ]]\n"
          ]
        }
      ],
      "source": [
        "# Addition\n",
        "print(a+b)\n",
        "#Subtraction\n",
        "print(a-b)\n",
        "#Multiplication\n",
        "print(a * b)\n",
        "#dividion\n",
        "print(a / b)"
      ]
    },
    {
      "cell_type": "code",
      "execution_count": 21,
      "metadata": {
        "id": "j0D7tbBHL0z3"
      },
      "outputs": [],
      "source": [
        "a = np.random.randint(0,10,(3,3))\n",
        "b = np.random.randint(10,20,(3,3))\n"
      ]
    },
    {
      "cell_type": "code",
      "execution_count": 22,
      "metadata": {
        "colab": {
          "base_uri": "https://localhost:8080/"
        },
        "id": "xrMIHFusMSGj",
        "outputId": "7da2b3d9-8635-4bf6-e488-c621b5fd7ab9"
      },
      "outputs": [
        {
          "name": "stdout",
          "output_type": "stream",
          "text": [
            "[[12 11 24]\n",
            " [12 18 17]\n",
            " [27 18 20]]\n",
            "[[ -8  -9 -14]\n",
            " [-10  -4  -7]\n",
            " [ -9 -16 -10]]\n",
            "[[ 20  10  95]\n",
            " [ 11  77  60]\n",
            " [162  17  75]]\n",
            "[[0.2        0.1        0.26315789]\n",
            " [0.09090909 0.63636364 0.41666667]\n",
            " [0.5        0.05882353 0.33333333]]\n"
          ]
        }
      ],
      "source": [
        "print(np.add(a,b))\n",
        "print(np.subtract(a,b))\n",
        "print(np.multiply(a,b))\n",
        "print(np.divide(a,b))"
      ]
    },
    {
      "cell_type": "markdown",
      "metadata": {
        "id": "2w9xKTVCMjB0"
      },
      "source": [
        "# Array Manipulation"
      ]
    },
    {
      "cell_type": "code",
      "execution_count": 23,
      "metadata": {
        "colab": {
          "base_uri": "https://localhost:8080/"
        },
        "id": "W5J-w36QMoE3",
        "outputId": "904d02ae-9af4-4de0-9e79-8f1d0abb30a2"
      },
      "outputs": [
        {
          "name": "stdout",
          "output_type": "stream",
          "text": [
            "[[1 9 1]\n",
            " [9 2 5]]\n",
            "Shape:  (2, 3)\n"
          ]
        }
      ],
      "source": [
        "array = np.random.randint(0,10,(2,3))\n",
        "print(array)\n",
        "\n",
        "print(\"Shape: \",array.shape)\n"
      ]
    },
    {
      "cell_type": "code",
      "execution_count": 24,
      "metadata": {
        "colab": {
          "base_uri": "https://localhost:8080/"
        },
        "id": "pNg4JtFyNCi4",
        "outputId": "6779e727-70eb-486b-f736-b8c581ec02be"
      },
      "outputs": [
        {
          "name": "stdout",
          "output_type": "stream",
          "text": [
            "[[1 9]\n",
            " [9 2]\n",
            " [1 5]]\n",
            "Shape:  (3, 2)\n"
          ]
        }
      ],
      "source": [
        "#Transpose\n",
        "trans = np.transpose(array)\n",
        "print(trans)\n",
        "print(\"Shape: \", trans.shape)\n",
        "\n",
        "\n",
        "# 2nd way to find Transpose\n",
        "#trans2 = array.T\n",
        "#print(trans2)\n",
        "\n"
      ]
    },
    {
      "cell_type": "code",
      "execution_count": 25,
      "metadata": {
        "colab": {
          "base_uri": "https://localhost:8080/"
        },
        "id": "JTwwIHGmOI8i",
        "outputId": "ae96135d-df27-498a-c5cd-9d754a05f8f6"
      },
      "outputs": [
        {
          "name": "stdout",
          "output_type": "stream",
          "text": [
            "[[3 1 1]\n",
            " [7 8 9]]\n",
            "(2, 3)\n"
          ]
        }
      ],
      "source": [
        "# Re-shaping Array\n",
        "a = np.random.randint(0,10,(2,3))\n",
        "print(a)\n",
        "print(a.shape)\n"
      ]
    },
    {
      "cell_type": "code",
      "execution_count": 26,
      "metadata": {
        "colab": {
          "base_uri": "https://localhost:8080/"
        },
        "id": "iH2jDzphOdpR",
        "outputId": "4d9f364b-b19b-4311-85a8-642a793a4916"
      },
      "outputs": [
        {
          "name": "stdout",
          "output_type": "stream",
          "text": [
            "[[3 1]\n",
            " [1 7]\n",
            " [8 9]]\n"
          ]
        }
      ],
      "source": [
        "b = a.reshape(3,2)\n",
        "print(b)"
      ]
    },
    {
      "cell_type": "code",
      "execution_count": null,
      "metadata": {
        "id": "OCyuV-fjOiHn"
      },
      "outputs": [],
      "source": []
    }
  ],
  "metadata": {
    "colab": {
      "provenance": []
    },
    "kernelspec": {
      "display_name": "Python 3",
      "name": "python3"
    },
    "language_info": {
      "codemirror_mode": {
        "name": "ipython",
        "version": 3
      },
      "file_extension": ".py",
      "mimetype": "text/x-python",
      "name": "python",
      "nbconvert_exporter": "python",
      "pygments_lexer": "ipython3",
      "version": "3.12.1"
    }
  },
  "nbformat": 4,
  "nbformat_minor": 0
}
