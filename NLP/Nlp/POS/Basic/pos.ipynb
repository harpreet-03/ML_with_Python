{
 "cells": [
  {
   "cell_type": "markdown",
   "metadata": {},
   "source": [
    "Dhaval ate fruits\n",
    "\n",
    "- Dhaval ---> Noun\n",
    "\n",
    "- ate    ---> Verb\n",
    "\n",
    "- fruits ---> Noun"
   ]
  },
  {
   "cell_type": "markdown",
   "metadata": {},
   "source": [
    "I ate many fruits\n",
    "\n",
    "- I  ---> Pronoun\n",
    "- ate ---> Verb\n",
    "- many ---> Adjective\n",
    "- fruits ---> Noun"
   ]
  },
  {
   "cell_type": "markdown",
   "metadata": {},
   "source": [
    "Conjunction --->  Connects words or group of words\n",
    "- I want to eat pizza, but I want to be healthy\n",
    "\n",
    "Preposition ---> Links a noun to another word\n",
    "- eg: I parked my car in the garage\n",
    "\n",
    "Interjection --->  a word or phrase that is grammatically independent from the words around it, and mainly expresses feeling rather than meaning.\n",
    "\n",
    "- eg: Oh, what a beautiful house! "
   ]
  },
  {
   "cell_type": "code",
   "execution_count": 6,
   "metadata": {},
   "outputs": [],
   "source": [
    "import spacy\n",
    "nlp = spacy.load(\"en_core_web_sm\")"
   ]
  },
  {
   "cell_type": "code",
   "execution_count": 7,
   "metadata": {},
   "outputs": [
    {
     "name": "stdout",
     "output_type": "stream",
     "text": [
      "Elon\n",
      "flew\n",
      "to\n",
      "Mars\n",
      "yesterday\n",
      ".\n",
      "He\n",
      "carried\n",
      "biryani\n",
      "masala\n",
      "with\n",
      "him\n"
     ]
    }
   ],
   "source": [
    "doc = nlp(\"Elon flew to Mars yesterday. He carried biryani masala with him\")\n",
    "\n",
    "for token in doc:\n",
    "    print(token)"
   ]
  },
  {
   "cell_type": "markdown",
   "metadata": {},
   "source": [
    "**POS**"
   ]
  },
  {
   "cell_type": "code",
   "execution_count": 9,
   "metadata": {},
   "outputs": [
    {
     "name": "stdout",
     "output_type": "stream",
     "text": [
      "Elon | PROPN | proper noun\n",
      "flew | VERB | verb\n",
      "to | ADP | adposition\n",
      "Mars | PROPN | proper noun\n",
      "yesterday | NOUN | noun\n",
      ". | PUNCT | punctuation\n",
      "He | PRON | pronoun\n",
      "carried | VERB | verb\n",
      "biryani | ADJ | adjective\n",
      "masala | NOUN | noun\n",
      "with | ADP | adposition\n",
      "him | PRON | pronoun\n"
     ]
    }
   ],
   "source": [
    "for token in doc:\n",
    "    print(token, \"|\", token.pos_, \"|\", spacy.explain(token.pos_) )"
   ]
  },
  {
   "cell_type": "code",
   "execution_count": 10,
   "metadata": {},
   "outputs": [
    {
     "data": {
      "text/plain": [
       "['tok2vec', 'tagger', 'parser', 'attribute_ruler', 'lemmatizer', 'ner']"
      ]
     },
     "execution_count": 10,
     "metadata": {},
     "output_type": "execute_result"
    }
   ],
   "source": [
    "nlp.pipe_names"
   ]
  },
  {
   "cell_type": "code",
   "execution_count": 13,
   "metadata": {},
   "outputs": [
    {
     "name": "stdout",
     "output_type": "stream",
     "text": [
      "Wow | INTJ | interjection | UH | interjection\n",
      "! | PROPN | proper noun | NNP | noun, proper singular\n",
      ", | PUNCT | punctuation | , | punctuation mark, comma\n",
      "Dr. | PROPN | proper noun | NNP | noun, proper singular\n",
      "Strange | PROPN | proper noun | NNP | noun, proper singular\n",
      "made | VERB | verb | VBD | verb, past tense\n",
      "265 | NUM | numeral | CD | cardinal number\n",
      "million | NUM | numeral | CD | cardinal number\n",
      "$ | NUM | numeral | CD | cardinal number\n",
      "on | ADP | adposition | IN | conjunction, subordinating or preposition\n",
      "the | DET | determiner | DT | determiner\n",
      "very | ADV | adverb | RB | adverb\n",
      "first | ADJ | adjective | JJ | adjective (English), other noun-modifier (Chinese)\n",
      "day | NOUN | noun | NN | noun, singular or mass\n"
     ]
    }
   ],
   "source": [
    "doc2 = nlp(\"Wow!, Dr. Strange made 265 million $ on the very first day\")\n",
    "\n",
    "for token in doc2:\n",
    "    print(token, \"|\", token.pos_, \"|\", spacy.explain(token.pos_), \"|\", token.tag_, \"|\", spacy.explain(token.tag_))"
   ]
  },
  {
   "cell_type": "code",
   "execution_count": 16,
   "metadata": {},
   "outputs": [
    {
     "name": "stdout",
     "output_type": "stream",
     "text": [
      "quits | VBZ | verb, 3rd person singular present\n"
     ]
    }
   ],
   "source": [
    "doc3 = nlp(\"He quits the job\")\n",
    "\n",
    "doc3[1]\n",
    "print(doc3[1].text, \"|\", doc3[1].tag_, \"|\", spacy.explain(doc3[1].tag_))"
   ]
  },
  {
   "cell_type": "code",
   "execution_count": 17,
   "metadata": {},
   "outputs": [
    {
     "name": "stdout",
     "output_type": "stream",
     "text": [
      "quit | VBD | verb, past tense\n"
     ]
    }
   ],
   "source": [
    "doc4 = nlp(\"He quit the job\")\n",
    "\n",
    "doc4[1]\n",
    "print(doc4[1].text, \"|\", doc4[1].tag_, \"|\", spacy.explain(doc4[1].tag_))"
   ]
  },
  {
   "cell_type": "markdown",
   "metadata": {},
   "source": [
    "Removing all SPACE, PUNCT and X token from text\n",
    "Processing microsoft's earning report: https://www.microsoft.com/en-us/investor/earnings/fy-2022-q2/press-release-webcast"
   ]
  },
  {
   "cell_type": "code",
   "execution_count": 18,
   "metadata": {},
   "outputs": [],
   "source": [
    "earnings_text=\"\"\"Microsoft Corp. today announced the following results for the quarter ended December 31, 2021, as compared to the corresponding period of last fiscal year:\n",
    "\n",
    "·         Revenue was $51.7 billion and increased 20%\n",
    "·         Operating income was $22.2 billion and increased 24%\n",
    "·         Net income was $18.8 billion and increased 21%\n",
    "·         Diluted earnings per share was $2.48 and increased 22%\n",
    "“Digital technology is the most malleable resource at the world’s disposal to overcome constraints and reimagine everyday work and life,” said Satya Nadella, chairman and chief executive officer of Microsoft. “As tech as a percentage of global GDP continues to increase, we are innovating and investing across diverse and growing markets, with a common underlying technology stack and an operating model that reinforces a common strategy, culture, and sense of purpose.”\n",
    "“Solid commercial execution, represented by strong bookings growth driven by long-term Azure commitments, increased Microsoft Cloud revenue to $22.1 billion, up 32% year over year” said Amy Hood, executive vice president and chief financial officer of Microsoft.\"\"\"\n",
    "\n",
    "doc = nlp(earnings_text)\n",
    "\n",
    "filtered_tokens = []\n",
    "\n",
    "for token in doc:\n",
    "    if token.pos_ not in [\"SPACE\", \"PUNCT\", \"X\"]:\n",
    "        filtered_tokens.append(token)"
   ]
  },
  {
   "cell_type": "code",
   "execution_count": 20,
   "metadata": {},
   "outputs": [
    {
     "data": {
      "text/plain": [
       "[Microsoft,\n",
       " Corp.,\n",
       " today,\n",
       " announced,\n",
       " the,\n",
       " following,\n",
       " results,\n",
       " for,\n",
       " the,\n",
       " quarter,\n",
       " ended,\n",
       " December,\n",
       " 31,\n",
       " 2021,\n",
       " as,\n",
       " compared,\n",
       " to,\n",
       " the,\n",
       " corresponding,\n",
       " period,\n",
       " of,\n",
       " last,\n",
       " fiscal,\n",
       " year,\n",
       " Revenue,\n",
       " was,\n",
       " $,\n",
       " 51.7,\n",
       " billion,\n",
       " and,\n",
       " increased,\n",
       " 20,\n",
       " %,\n",
       " Operating,\n",
       " income,\n",
       " was,\n",
       " $,\n",
       " 22.2,\n",
       " billion,\n",
       " and,\n",
       " increased,\n",
       " 24,\n",
       " %,\n",
       " Net,\n",
       " income,\n",
       " was,\n",
       " $,\n",
       " 18.8,\n",
       " billion,\n",
       " and,\n",
       " increased,\n",
       " 21,\n",
       " %,\n",
       " Diluted,\n",
       " earnings,\n",
       " per,\n",
       " share,\n",
       " was,\n",
       " $,\n",
       " 2.48,\n",
       " and,\n",
       " increased,\n",
       " 22,\n",
       " %,\n",
       " Digital,\n",
       " technology,\n",
       " is,\n",
       " the,\n",
       " most,\n",
       " malleable,\n",
       " resource,\n",
       " at,\n",
       " the,\n",
       " world,\n",
       " ’s,\n",
       " disposal,\n",
       " to,\n",
       " overcome,\n",
       " constraints,\n",
       " and,\n",
       " reimagine,\n",
       " everyday,\n",
       " work,\n",
       " and,\n",
       " life,\n",
       " said,\n",
       " Satya,\n",
       " Nadella,\n",
       " chairman,\n",
       " and,\n",
       " chief,\n",
       " executive,\n",
       " officer,\n",
       " of,\n",
       " Microsoft,\n",
       " As,\n",
       " tech,\n",
       " as,\n",
       " a,\n",
       " percentage]"
      ]
     },
     "execution_count": 20,
     "metadata": {},
     "output_type": "execute_result"
    }
   ],
   "source": [
    "filtered_tokens[:100]"
   ]
  },
  {
   "cell_type": "code",
   "execution_count": 23,
   "metadata": {},
   "outputs": [
    {
     "data": {
      "text/plain": [
       "{96: 15,\n",
       " 92: 45,\n",
       " 100: 23,\n",
       " 90: 9,\n",
       " 85: 16,\n",
       " 93: 16,\n",
       " 97: 27,\n",
       " 98: 1,\n",
       " 84: 20,\n",
       " 103: 10,\n",
       " 87: 6,\n",
       " 99: 5,\n",
       " 89: 12,\n",
       " 86: 3,\n",
       " 94: 3,\n",
       " 95: 2}"
      ]
     },
     "execution_count": 23,
     "metadata": {},
     "output_type": "execute_result"
    }
   ],
   "source": [
    "cnt = doc.count_by(spacy.attrs.POS)\n",
    "cnt"
   ]
  },
  {
   "cell_type": "code",
   "execution_count": 26,
   "metadata": {},
   "outputs": [
    {
     "data": {
      "text/plain": [
       "'PROPN'"
      ]
     },
     "execution_count": 26,
     "metadata": {},
     "output_type": "execute_result"
    }
   ],
   "source": [
    "doc.vocab[96].text\n",
    "\n",
    "#there are 15 proper nouns in the text"
   ]
  },
  {
   "cell_type": "code",
   "execution_count": 27,
   "metadata": {},
   "outputs": [
    {
     "name": "stdout",
     "output_type": "stream",
     "text": [
      "PROPN | 15\n",
      "NOUN | 45\n",
      "VERB | 23\n",
      "DET | 9\n",
      "ADP | 16\n",
      "NUM | 16\n",
      "PUNCT | 27\n",
      "SCONJ | 1\n",
      "ADJ | 20\n",
      "SPACE | 10\n",
      "AUX | 6\n",
      "SYM | 5\n",
      "CCONJ | 12\n",
      "ADV | 3\n",
      "PART | 3\n",
      "PRON | 2\n"
     ]
    }
   ],
   "source": [
    "for k,v in cnt.items():\n",
    "    print(doc.vocab[k].text, \"|\",v)"
   ]
  },
  {
   "cell_type": "code",
   "execution_count": null,
   "metadata": {},
   "outputs": [],
   "source": []
  }
 ],
 "metadata": {
  "kernelspec": {
   "display_name": "Python 3",
   "language": "python",
   "name": "python3"
  },
  "language_info": {
   "codemirror_mode": {
    "name": "ipython",
    "version": 3
   },
   "file_extension": ".py",
   "mimetype": "text/x-python",
   "name": "python",
   "nbconvert_exporter": "python",
   "pygments_lexer": "ipython3",
   "version": "3.12.1"
  }
 },
 "nbformat": 4,
 "nbformat_minor": 2
}
